{
 "cells": [
  {
   "cell_type": "markdown",
   "id": "e93c0cae-ebf6-4bad-9f3b-e170bda4f629",
   "metadata": {},
   "source": [
    "# Oppgave 2 - Klassifikasjon (30%)<a name=\"oppgave2\"></a>"
   ]
  },
  {
   "cell_type": "markdown",
   "id": "62d78386-8e77-4ef0-a20b-66591a6aedab",
   "metadata": {
    "tags": []
   },
   "source": [
    "*Oppgave 2 består av 4 deler med til sammen 15 spørsmål, der alle spørsmål (2a.1), 2a.2) etc.) teller likt. Oppgave 2 teller totalt 30 % av prosjektet.*\n",
    "\n",
    "**Oppgaven inneholder følgende elementer:**\n",
    "\n",
    "* Laste inn og utforske et datasett for klassifikasjon\n",
    "* Dele datasettet inn i treningssett, valideringssett og testsett\n",
    "* Tilpasse en logistisk regresjon og bruke denne til å klassifisere\n",
    "* Utføre $k$-nærmeste nabo-klassifikasjon\n",
    "* Evaluere godhet av klassifikasjonsresultatene\n",
    "\n",
    "## Innholdsfortegnelse\n",
    "* [Ble det hjemmeseier?](#intro)\n",
    "* [Oppgave 2a) Lese inn og preprosessere data](#oppgave2a)\n",
    "* [Oppgave 2b) Logistisk regresjon](#oppgave2b)\n",
    "* [Oppgave 2c) $k$-nærmeste-nabo-klassifikasjon](#oppgave2c)\n",
    "* [Oppgave 2d) Evaluere beste modeller](#oppgave2d)\n"
   ]
  },
  {
   "cell_type": "markdown",
   "id": "2676a4a0-6989-41db-8abb-ceff84a67df8",
   "metadata": {},
   "source": [
    "### Ble det hjemmeseier?<a name=\"intro\"></a>\n",
    "\n",
    "Datasettet vi skal se på er fra de fire øverste divisjonene i engelsk fotball, i sesongen 2022-2023, og oppgaven går ut på å tilpasse ulike metoder for å predikere om hjemmelaget vinner en gitt kamp utifra data på antall skudd på mål, cornere og forseelser (regelbrudd som fører til frispark eller straffespark).\n",
    "\n",
    "Mer informasjon om dataene: https://www.football-data.co.uk/englandm.php."
   ]
  },
  {
   "cell_type": "code",
   "execution_count": 5,
   "id": "6c2d777d-bee7-4417-adfc-1669500ac49b",
   "metadata": {},
   "outputs": [],
   "source": [
    "# importere pakker og funksjoner vi trenger i oppgave 2\n",
    "import numpy as np\n",
    "import pandas as pd\n",
    "import matplotlib.colors as mcolors\n",
    "import matplotlib.pyplot as plt\n",
    "import matplotlib.lines as mlines\n",
    "import seaborn as sns\n",
    "from scipy import stats\n",
    "import statsmodels.formula.api as smf\n",
    "import statsmodels.api as sm\n",
    "from sklearn.model_selection import train_test_split\n",
    "from sklearn.metrics import accuracy_score\n",
    "from sklearn.neighbors import KNeighborsClassifier"
   ]
  },
  {
   "cell_type": "markdown",
   "id": "49f7a978-5fe3-4057-93ae-695e8e51749e",
   "metadata": {},
   "source": [
    "### Oppgave 2a) Lese inn og preprosessere data<a name=\"oppgave2a\"></a>\n",
    "\n",
    "*Oppgave 2a) inneholder 5 spørsmål du skal svare på.*\n",
    "\n",
    "Datasettet vi skal jobbe med inneholder informasjon om fotballkamper i engelsk fotball. Dataene finnes i fire forskjellige filer, og hver fil inneholder informasjon om kampene i en gitt divisjon. Vi laster inn dataene fra hver fil og kombinerer dem. Etter vi har gjort dette har datasettet $2036$ rader og $106$ kolonner. En gitt rad tilsvarer en gitt kamp og en gitt kolonne tilsvarer en type informasjon (f.eks. antall cornere hjemmelaget hadde). Kolonner som begynner på `H` angår hjemmelaget og `A` angår bortelaget.\n",
    "\n",
    "I en gitt kamp vinner enten hjemmelaget, eller så vinner ikke hjemmelaget (uavgjort eller borteseier). Resultatet av en kamp er dermed at:\n",
    "* hjemmelaget vinner - kodet som $1$\n",
    "* hjemmelaget vinner ikke - kodet som $0$.\n",
    "\n",
    "Kampresultatet ($0$ eller $1$) legger vi i kolonnen `y`, som skal være hva vi vil predikere/klassifisere.\n",
    "\n",
    "Vi skal ikke se på alle variablene i datasettet, og skal i tillegg til `y` konsentrere oss om kolonnene\n",
    "\n",
    "* `HST`, `AST`: antall skudd på mål for henholdsvis hjemmelaget og bortelaget\n",
    "* `HC`, `AC`: antall cornere for henholdsvis hjemmelaget og bortelaget\n",
    "* `HF`, `AF`: antall forseelser for henholdsvis hjemmelaget og bortelaget\n",
    "\n",
    "Istedenfor å se direkte på disse tre antallene for de to lagene, ser vi heller på *differansene* for hver kamp. Vi lager de nye variablene\n",
    "\n",
    "* `skudd_paa_maal_diff`=`HST`-`AST`\n",
    "* `corner_diff`=`HC`-`AC`\n",
    "* `forseelse_diff`=`HF`-`AF`\n",
    "\n",
    "og dette skal være forklaringsvariablene våre.\n",
    "\n",
    "_Oppsummert_: Observasjonsenheten i dataene er en fotballkamp, vi har tre forklaringsvariabler `skudd_paa_maal_diff`, `corner_diff` og `forseelse_diff`, mens `y` (0 eller 1) er responsen vi ønsker å predikere.\n",
    "\n",
    "\n",
    "Koden under leser inn dataene, lager de nye variablene og putter alt inn i en ny data frame. Etter det er gjort har vi en datasett med $2036$ rader (kamper) og $4$ kolonner (variabler)."
   ]
  },
  {
   "cell_type": "code",
   "execution_count": 6,
   "id": "51a8935f-098e-4e86-88c1-88fbd658da7c",
   "metadata": {},
   "outputs": [
    {
     "ename": "URLError",
     "evalue": "<urlopen error [SSL: CERTIFICATE_VERIFY_FAILED] certificate verify failed: unable to get local issuer certificate (_ssl.c:1000)>",
     "output_type": "error",
     "traceback": [
      "\u001b[0;31m---------------------------------------------------------------------------\u001b[0m",
      "\u001b[0;31mSSLCertVerificationError\u001b[0m                  Traceback (most recent call last)",
      "File \u001b[0;32m/Library/Frameworks/Python.framework/Versions/3.12/lib/python3.12/urllib/request.py:1344\u001b[0m, in \u001b[0;36mAbstractHTTPHandler.do_open\u001b[0;34m(self, http_class, req, **http_conn_args)\u001b[0m\n\u001b[1;32m   1343\u001b[0m \u001b[38;5;28;01mtry\u001b[39;00m:\n\u001b[0;32m-> 1344\u001b[0m     \u001b[43mh\u001b[49m\u001b[38;5;241;43m.\u001b[39;49m\u001b[43mrequest\u001b[49m\u001b[43m(\u001b[49m\u001b[43mreq\u001b[49m\u001b[38;5;241;43m.\u001b[39;49m\u001b[43mget_method\u001b[49m\u001b[43m(\u001b[49m\u001b[43m)\u001b[49m\u001b[43m,\u001b[49m\u001b[43m \u001b[49m\u001b[43mreq\u001b[49m\u001b[38;5;241;43m.\u001b[39;49m\u001b[43mselector\u001b[49m\u001b[43m,\u001b[49m\u001b[43m \u001b[49m\u001b[43mreq\u001b[49m\u001b[38;5;241;43m.\u001b[39;49m\u001b[43mdata\u001b[49m\u001b[43m,\u001b[49m\u001b[43m \u001b[49m\u001b[43mheaders\u001b[49m\u001b[43m,\u001b[49m\n\u001b[1;32m   1345\u001b[0m \u001b[43m              \u001b[49m\u001b[43mencode_chunked\u001b[49m\u001b[38;5;241;43m=\u001b[39;49m\u001b[43mreq\u001b[49m\u001b[38;5;241;43m.\u001b[39;49m\u001b[43mhas_header\u001b[49m\u001b[43m(\u001b[49m\u001b[38;5;124;43m'\u001b[39;49m\u001b[38;5;124;43mTransfer-encoding\u001b[39;49m\u001b[38;5;124;43m'\u001b[39;49m\u001b[43m)\u001b[49m\u001b[43m)\u001b[49m\n\u001b[1;32m   1346\u001b[0m \u001b[38;5;28;01mexcept\u001b[39;00m \u001b[38;5;167;01mOSError\u001b[39;00m \u001b[38;5;28;01mas\u001b[39;00m err: \u001b[38;5;66;03m# timeout error\u001b[39;00m\n",
      "File \u001b[0;32m/Library/Frameworks/Python.framework/Versions/3.12/lib/python3.12/http/client.py:1327\u001b[0m, in \u001b[0;36mHTTPConnection.request\u001b[0;34m(self, method, url, body, headers, encode_chunked)\u001b[0m\n\u001b[1;32m   1326\u001b[0m \u001b[38;5;250m\u001b[39m\u001b[38;5;124;03m\"\"\"Send a complete request to the server.\"\"\"\u001b[39;00m\n\u001b[0;32m-> 1327\u001b[0m \u001b[38;5;28;43mself\u001b[39;49m\u001b[38;5;241;43m.\u001b[39;49m\u001b[43m_send_request\u001b[49m\u001b[43m(\u001b[49m\u001b[43mmethod\u001b[49m\u001b[43m,\u001b[49m\u001b[43m \u001b[49m\u001b[43murl\u001b[49m\u001b[43m,\u001b[49m\u001b[43m \u001b[49m\u001b[43mbody\u001b[49m\u001b[43m,\u001b[49m\u001b[43m \u001b[49m\u001b[43mheaders\u001b[49m\u001b[43m,\u001b[49m\u001b[43m \u001b[49m\u001b[43mencode_chunked\u001b[49m\u001b[43m)\u001b[49m\n",
      "File \u001b[0;32m/Library/Frameworks/Python.framework/Versions/3.12/lib/python3.12/http/client.py:1373\u001b[0m, in \u001b[0;36mHTTPConnection._send_request\u001b[0;34m(self, method, url, body, headers, encode_chunked)\u001b[0m\n\u001b[1;32m   1372\u001b[0m     body \u001b[38;5;241m=\u001b[39m _encode(body, \u001b[38;5;124m'\u001b[39m\u001b[38;5;124mbody\u001b[39m\u001b[38;5;124m'\u001b[39m)\n\u001b[0;32m-> 1373\u001b[0m \u001b[38;5;28;43mself\u001b[39;49m\u001b[38;5;241;43m.\u001b[39;49m\u001b[43mendheaders\u001b[49m\u001b[43m(\u001b[49m\u001b[43mbody\u001b[49m\u001b[43m,\u001b[49m\u001b[43m \u001b[49m\u001b[43mencode_chunked\u001b[49m\u001b[38;5;241;43m=\u001b[39;49m\u001b[43mencode_chunked\u001b[49m\u001b[43m)\u001b[49m\n",
      "File \u001b[0;32m/Library/Frameworks/Python.framework/Versions/3.12/lib/python3.12/http/client.py:1322\u001b[0m, in \u001b[0;36mHTTPConnection.endheaders\u001b[0;34m(self, message_body, encode_chunked)\u001b[0m\n\u001b[1;32m   1321\u001b[0m     \u001b[38;5;28;01mraise\u001b[39;00m CannotSendHeader()\n\u001b[0;32m-> 1322\u001b[0m \u001b[38;5;28;43mself\u001b[39;49m\u001b[38;5;241;43m.\u001b[39;49m\u001b[43m_send_output\u001b[49m\u001b[43m(\u001b[49m\u001b[43mmessage_body\u001b[49m\u001b[43m,\u001b[49m\u001b[43m \u001b[49m\u001b[43mencode_chunked\u001b[49m\u001b[38;5;241;43m=\u001b[39;49m\u001b[43mencode_chunked\u001b[49m\u001b[43m)\u001b[49m\n",
      "File \u001b[0;32m/Library/Frameworks/Python.framework/Versions/3.12/lib/python3.12/http/client.py:1081\u001b[0m, in \u001b[0;36mHTTPConnection._send_output\u001b[0;34m(self, message_body, encode_chunked)\u001b[0m\n\u001b[1;32m   1080\u001b[0m \u001b[38;5;28;01mdel\u001b[39;00m \u001b[38;5;28mself\u001b[39m\u001b[38;5;241m.\u001b[39m_buffer[:]\n\u001b[0;32m-> 1081\u001b[0m \u001b[38;5;28;43mself\u001b[39;49m\u001b[38;5;241;43m.\u001b[39;49m\u001b[43msend\u001b[49m\u001b[43m(\u001b[49m\u001b[43mmsg\u001b[49m\u001b[43m)\u001b[49m\n\u001b[1;32m   1083\u001b[0m \u001b[38;5;28;01mif\u001b[39;00m message_body \u001b[38;5;129;01mis\u001b[39;00m \u001b[38;5;129;01mnot\u001b[39;00m \u001b[38;5;28;01mNone\u001b[39;00m:\n\u001b[1;32m   1084\u001b[0m \n\u001b[1;32m   1085\u001b[0m     \u001b[38;5;66;03m# create a consistent interface to message_body\u001b[39;00m\n",
      "File \u001b[0;32m/Library/Frameworks/Python.framework/Versions/3.12/lib/python3.12/http/client.py:1025\u001b[0m, in \u001b[0;36mHTTPConnection.send\u001b[0;34m(self, data)\u001b[0m\n\u001b[1;32m   1024\u001b[0m \u001b[38;5;28;01mif\u001b[39;00m \u001b[38;5;28mself\u001b[39m\u001b[38;5;241m.\u001b[39mauto_open:\n\u001b[0;32m-> 1025\u001b[0m     \u001b[38;5;28;43mself\u001b[39;49m\u001b[38;5;241;43m.\u001b[39;49m\u001b[43mconnect\u001b[49m\u001b[43m(\u001b[49m\u001b[43m)\u001b[49m\n\u001b[1;32m   1026\u001b[0m \u001b[38;5;28;01melse\u001b[39;00m:\n",
      "File \u001b[0;32m/Library/Frameworks/Python.framework/Versions/3.12/lib/python3.12/http/client.py:1468\u001b[0m, in \u001b[0;36mHTTPSConnection.connect\u001b[0;34m(self)\u001b[0m\n\u001b[1;32m   1466\u001b[0m     server_hostname \u001b[38;5;241m=\u001b[39m \u001b[38;5;28mself\u001b[39m\u001b[38;5;241m.\u001b[39mhost\n\u001b[0;32m-> 1468\u001b[0m \u001b[38;5;28mself\u001b[39m\u001b[38;5;241m.\u001b[39msock \u001b[38;5;241m=\u001b[39m \u001b[38;5;28;43mself\u001b[39;49m\u001b[38;5;241;43m.\u001b[39;49m\u001b[43m_context\u001b[49m\u001b[38;5;241;43m.\u001b[39;49m\u001b[43mwrap_socket\u001b[49m\u001b[43m(\u001b[49m\u001b[38;5;28;43mself\u001b[39;49m\u001b[38;5;241;43m.\u001b[39;49m\u001b[43msock\u001b[49m\u001b[43m,\u001b[49m\n\u001b[1;32m   1469\u001b[0m \u001b[43m                                      \u001b[49m\u001b[43mserver_hostname\u001b[49m\u001b[38;5;241;43m=\u001b[39;49m\u001b[43mserver_hostname\u001b[49m\u001b[43m)\u001b[49m\n",
      "File \u001b[0;32m/Library/Frameworks/Python.framework/Versions/3.12/lib/python3.12/ssl.py:455\u001b[0m, in \u001b[0;36mSSLContext.wrap_socket\u001b[0;34m(self, sock, server_side, do_handshake_on_connect, suppress_ragged_eofs, server_hostname, session)\u001b[0m\n\u001b[1;32m    449\u001b[0m \u001b[38;5;28;01mdef\u001b[39;00m \u001b[38;5;21mwrap_socket\u001b[39m(\u001b[38;5;28mself\u001b[39m, sock, server_side\u001b[38;5;241m=\u001b[39m\u001b[38;5;28;01mFalse\u001b[39;00m,\n\u001b[1;32m    450\u001b[0m                 do_handshake_on_connect\u001b[38;5;241m=\u001b[39m\u001b[38;5;28;01mTrue\u001b[39;00m,\n\u001b[1;32m    451\u001b[0m                 suppress_ragged_eofs\u001b[38;5;241m=\u001b[39m\u001b[38;5;28;01mTrue\u001b[39;00m,\n\u001b[1;32m    452\u001b[0m                 server_hostname\u001b[38;5;241m=\u001b[39m\u001b[38;5;28;01mNone\u001b[39;00m, session\u001b[38;5;241m=\u001b[39m\u001b[38;5;28;01mNone\u001b[39;00m):\n\u001b[1;32m    453\u001b[0m     \u001b[38;5;66;03m# SSLSocket class handles server_hostname encoding before it calls\u001b[39;00m\n\u001b[1;32m    454\u001b[0m     \u001b[38;5;66;03m# ctx._wrap_socket()\u001b[39;00m\n\u001b[0;32m--> 455\u001b[0m     \u001b[38;5;28;01mreturn\u001b[39;00m \u001b[38;5;28;43mself\u001b[39;49m\u001b[38;5;241;43m.\u001b[39;49m\u001b[43msslsocket_class\u001b[49m\u001b[38;5;241;43m.\u001b[39;49m\u001b[43m_create\u001b[49m\u001b[43m(\u001b[49m\n\u001b[1;32m    456\u001b[0m \u001b[43m        \u001b[49m\u001b[43msock\u001b[49m\u001b[38;5;241;43m=\u001b[39;49m\u001b[43msock\u001b[49m\u001b[43m,\u001b[49m\n\u001b[1;32m    457\u001b[0m \u001b[43m        \u001b[49m\u001b[43mserver_side\u001b[49m\u001b[38;5;241;43m=\u001b[39;49m\u001b[43mserver_side\u001b[49m\u001b[43m,\u001b[49m\n\u001b[1;32m    458\u001b[0m \u001b[43m        \u001b[49m\u001b[43mdo_handshake_on_connect\u001b[49m\u001b[38;5;241;43m=\u001b[39;49m\u001b[43mdo_handshake_on_connect\u001b[49m\u001b[43m,\u001b[49m\n\u001b[1;32m    459\u001b[0m \u001b[43m        \u001b[49m\u001b[43msuppress_ragged_eofs\u001b[49m\u001b[38;5;241;43m=\u001b[39;49m\u001b[43msuppress_ragged_eofs\u001b[49m\u001b[43m,\u001b[49m\n\u001b[1;32m    460\u001b[0m \u001b[43m        \u001b[49m\u001b[43mserver_hostname\u001b[49m\u001b[38;5;241;43m=\u001b[39;49m\u001b[43mserver_hostname\u001b[49m\u001b[43m,\u001b[49m\n\u001b[1;32m    461\u001b[0m \u001b[43m        \u001b[49m\u001b[43mcontext\u001b[49m\u001b[38;5;241;43m=\u001b[39;49m\u001b[38;5;28;43mself\u001b[39;49m\u001b[43m,\u001b[49m\n\u001b[1;32m    462\u001b[0m \u001b[43m        \u001b[49m\u001b[43msession\u001b[49m\u001b[38;5;241;43m=\u001b[39;49m\u001b[43msession\u001b[49m\n\u001b[1;32m    463\u001b[0m \u001b[43m    \u001b[49m\u001b[43m)\u001b[49m\n",
      "File \u001b[0;32m/Library/Frameworks/Python.framework/Versions/3.12/lib/python3.12/ssl.py:1046\u001b[0m, in \u001b[0;36mSSLSocket._create\u001b[0;34m(cls, sock, server_side, do_handshake_on_connect, suppress_ragged_eofs, server_hostname, context, session)\u001b[0m\n\u001b[1;32m   1045\u001b[0m             \u001b[38;5;28;01mraise\u001b[39;00m \u001b[38;5;167;01mValueError\u001b[39;00m(\u001b[38;5;124m\"\u001b[39m\u001b[38;5;124mdo_handshake_on_connect should not be specified for non-blocking sockets\u001b[39m\u001b[38;5;124m\"\u001b[39m)\n\u001b[0;32m-> 1046\u001b[0m         \u001b[38;5;28;43mself\u001b[39;49m\u001b[38;5;241;43m.\u001b[39;49m\u001b[43mdo_handshake\u001b[49m\u001b[43m(\u001b[49m\u001b[43m)\u001b[49m\n\u001b[1;32m   1047\u001b[0m \u001b[38;5;28;01mexcept\u001b[39;00m (\u001b[38;5;167;01mOSError\u001b[39;00m, \u001b[38;5;167;01mValueError\u001b[39;00m):\n",
      "File \u001b[0;32m/Library/Frameworks/Python.framework/Versions/3.12/lib/python3.12/ssl.py:1321\u001b[0m, in \u001b[0;36mSSLSocket.do_handshake\u001b[0;34m(self, block)\u001b[0m\n\u001b[1;32m   1320\u001b[0m         \u001b[38;5;28mself\u001b[39m\u001b[38;5;241m.\u001b[39msettimeout(\u001b[38;5;28;01mNone\u001b[39;00m)\n\u001b[0;32m-> 1321\u001b[0m     \u001b[38;5;28;43mself\u001b[39;49m\u001b[38;5;241;43m.\u001b[39;49m\u001b[43m_sslobj\u001b[49m\u001b[38;5;241;43m.\u001b[39;49m\u001b[43mdo_handshake\u001b[49m\u001b[43m(\u001b[49m\u001b[43m)\u001b[49m\n\u001b[1;32m   1322\u001b[0m \u001b[38;5;28;01mfinally\u001b[39;00m:\n",
      "\u001b[0;31mSSLCertVerificationError\u001b[0m: [SSL: CERTIFICATE_VERIFY_FAILED] certificate verify failed: unable to get local issuer certificate (_ssl.c:1000)",
      "\nDuring handling of the above exception, another exception occurred:\n",
      "\u001b[0;31mURLError\u001b[0m                                  Traceback (most recent call last)",
      "Cell \u001b[0;32mIn[6], line 2\u001b[0m\n\u001b[1;32m      1\u001b[0m \u001b[38;5;66;03m# Lese inn datasettene ved funksjon fra pandas (df=data frame - vanlig navn å gi et datasett)\u001b[39;00m\n\u001b[0;32m----> 2\u001b[0m df0 \u001b[38;5;241m=\u001b[39m \u001b[43mpd\u001b[49m\u001b[38;5;241;43m.\u001b[39;49m\u001b[43mread_csv\u001b[49m\u001b[43m(\u001b[49m\u001b[38;5;124;43m\"\u001b[39;49m\u001b[38;5;124;43mhttps://www.math.ntnu.no/emner/IST100x/ISTx1003/h2023/E0.csv\u001b[39;49m\u001b[38;5;124;43m\"\u001b[39;49m\u001b[43m,\u001b[49m\u001b[43m \u001b[49m\u001b[43msep\u001b[49m\u001b[43m \u001b[49m\u001b[38;5;241;43m=\u001b[39;49m\u001b[43m \u001b[49m\u001b[38;5;124;43m'\u001b[39;49m\u001b[38;5;124;43m,\u001b[39;49m\u001b[38;5;124;43m'\u001b[39;49m\u001b[43m)\u001b[49m \u001b[38;5;66;03m# Premier League\u001b[39;00m\n\u001b[1;32m      3\u001b[0m df1 \u001b[38;5;241m=\u001b[39m pd\u001b[38;5;241m.\u001b[39mread_csv(\u001b[38;5;124m\"\u001b[39m\u001b[38;5;124mhttps://www.math.ntnu.no/emner/IST100x/ISTx1003/h2023/E1.csv\u001b[39m\u001b[38;5;124m\"\u001b[39m, sep \u001b[38;5;241m=\u001b[39m \u001b[38;5;124m'\u001b[39m\u001b[38;5;124m,\u001b[39m\u001b[38;5;124m'\u001b[39m) \u001b[38;5;66;03m# Championship\u001b[39;00m\n\u001b[1;32m      4\u001b[0m df2 \u001b[38;5;241m=\u001b[39m pd\u001b[38;5;241m.\u001b[39mread_csv(\u001b[38;5;124m\"\u001b[39m\u001b[38;5;124mhttps://www.math.ntnu.no/emner/IST100x/ISTx1003/h2023/E2.csv\u001b[39m\u001b[38;5;124m\"\u001b[39m, sep \u001b[38;5;241m=\u001b[39m \u001b[38;5;124m'\u001b[39m\u001b[38;5;124m,\u001b[39m\u001b[38;5;124m'\u001b[39m) \u001b[38;5;66;03m# League 1\u001b[39;00m\n",
      "File \u001b[0;32m/Library/Frameworks/Python.framework/Versions/3.12/lib/python3.12/site-packages/pandas/io/parsers/readers.py:948\u001b[0m, in \u001b[0;36mread_csv\u001b[0;34m(filepath_or_buffer, sep, delimiter, header, names, index_col, usecols, dtype, engine, converters, true_values, false_values, skipinitialspace, skiprows, skipfooter, nrows, na_values, keep_default_na, na_filter, verbose, skip_blank_lines, parse_dates, infer_datetime_format, keep_date_col, date_parser, date_format, dayfirst, cache_dates, iterator, chunksize, compression, thousands, decimal, lineterminator, quotechar, quoting, doublequote, escapechar, comment, encoding, encoding_errors, dialect, on_bad_lines, delim_whitespace, low_memory, memory_map, float_precision, storage_options, dtype_backend)\u001b[0m\n\u001b[1;32m    935\u001b[0m kwds_defaults \u001b[38;5;241m=\u001b[39m _refine_defaults_read(\n\u001b[1;32m    936\u001b[0m     dialect,\n\u001b[1;32m    937\u001b[0m     delimiter,\n\u001b[0;32m   (...)\u001b[0m\n\u001b[1;32m    944\u001b[0m     dtype_backend\u001b[38;5;241m=\u001b[39mdtype_backend,\n\u001b[1;32m    945\u001b[0m )\n\u001b[1;32m    946\u001b[0m kwds\u001b[38;5;241m.\u001b[39mupdate(kwds_defaults)\n\u001b[0;32m--> 948\u001b[0m \u001b[38;5;28;01mreturn\u001b[39;00m \u001b[43m_read\u001b[49m\u001b[43m(\u001b[49m\u001b[43mfilepath_or_buffer\u001b[49m\u001b[43m,\u001b[49m\u001b[43m \u001b[49m\u001b[43mkwds\u001b[49m\u001b[43m)\u001b[49m\n",
      "File \u001b[0;32m/Library/Frameworks/Python.framework/Versions/3.12/lib/python3.12/site-packages/pandas/io/parsers/readers.py:611\u001b[0m, in \u001b[0;36m_read\u001b[0;34m(filepath_or_buffer, kwds)\u001b[0m\n\u001b[1;32m    608\u001b[0m _validate_names(kwds\u001b[38;5;241m.\u001b[39mget(\u001b[38;5;124m\"\u001b[39m\u001b[38;5;124mnames\u001b[39m\u001b[38;5;124m\"\u001b[39m, \u001b[38;5;28;01mNone\u001b[39;00m))\n\u001b[1;32m    610\u001b[0m \u001b[38;5;66;03m# Create the parser.\u001b[39;00m\n\u001b[0;32m--> 611\u001b[0m parser \u001b[38;5;241m=\u001b[39m \u001b[43mTextFileReader\u001b[49m\u001b[43m(\u001b[49m\u001b[43mfilepath_or_buffer\u001b[49m\u001b[43m,\u001b[49m\u001b[43m \u001b[49m\u001b[38;5;241;43m*\u001b[39;49m\u001b[38;5;241;43m*\u001b[39;49m\u001b[43mkwds\u001b[49m\u001b[43m)\u001b[49m\n\u001b[1;32m    613\u001b[0m \u001b[38;5;28;01mif\u001b[39;00m chunksize \u001b[38;5;129;01mor\u001b[39;00m iterator:\n\u001b[1;32m    614\u001b[0m     \u001b[38;5;28;01mreturn\u001b[39;00m parser\n",
      "File \u001b[0;32m/Library/Frameworks/Python.framework/Versions/3.12/lib/python3.12/site-packages/pandas/io/parsers/readers.py:1448\u001b[0m, in \u001b[0;36mTextFileReader.__init__\u001b[0;34m(self, f, engine, **kwds)\u001b[0m\n\u001b[1;32m   1445\u001b[0m     \u001b[38;5;28mself\u001b[39m\u001b[38;5;241m.\u001b[39moptions[\u001b[38;5;124m\"\u001b[39m\u001b[38;5;124mhas_index_names\u001b[39m\u001b[38;5;124m\"\u001b[39m] \u001b[38;5;241m=\u001b[39m kwds[\u001b[38;5;124m\"\u001b[39m\u001b[38;5;124mhas_index_names\u001b[39m\u001b[38;5;124m\"\u001b[39m]\n\u001b[1;32m   1447\u001b[0m \u001b[38;5;28mself\u001b[39m\u001b[38;5;241m.\u001b[39mhandles: IOHandles \u001b[38;5;241m|\u001b[39m \u001b[38;5;28;01mNone\u001b[39;00m \u001b[38;5;241m=\u001b[39m \u001b[38;5;28;01mNone\u001b[39;00m\n\u001b[0;32m-> 1448\u001b[0m \u001b[38;5;28mself\u001b[39m\u001b[38;5;241m.\u001b[39m_engine \u001b[38;5;241m=\u001b[39m \u001b[38;5;28;43mself\u001b[39;49m\u001b[38;5;241;43m.\u001b[39;49m\u001b[43m_make_engine\u001b[49m\u001b[43m(\u001b[49m\u001b[43mf\u001b[49m\u001b[43m,\u001b[49m\u001b[43m \u001b[49m\u001b[38;5;28;43mself\u001b[39;49m\u001b[38;5;241;43m.\u001b[39;49m\u001b[43mengine\u001b[49m\u001b[43m)\u001b[49m\n",
      "File \u001b[0;32m/Library/Frameworks/Python.framework/Versions/3.12/lib/python3.12/site-packages/pandas/io/parsers/readers.py:1705\u001b[0m, in \u001b[0;36mTextFileReader._make_engine\u001b[0;34m(self, f, engine)\u001b[0m\n\u001b[1;32m   1703\u001b[0m     \u001b[38;5;28;01mif\u001b[39;00m \u001b[38;5;124m\"\u001b[39m\u001b[38;5;124mb\u001b[39m\u001b[38;5;124m\"\u001b[39m \u001b[38;5;129;01mnot\u001b[39;00m \u001b[38;5;129;01min\u001b[39;00m mode:\n\u001b[1;32m   1704\u001b[0m         mode \u001b[38;5;241m+\u001b[39m\u001b[38;5;241m=\u001b[39m \u001b[38;5;124m\"\u001b[39m\u001b[38;5;124mb\u001b[39m\u001b[38;5;124m\"\u001b[39m\n\u001b[0;32m-> 1705\u001b[0m \u001b[38;5;28mself\u001b[39m\u001b[38;5;241m.\u001b[39mhandles \u001b[38;5;241m=\u001b[39m \u001b[43mget_handle\u001b[49m\u001b[43m(\u001b[49m\n\u001b[1;32m   1706\u001b[0m \u001b[43m    \u001b[49m\u001b[43mf\u001b[49m\u001b[43m,\u001b[49m\n\u001b[1;32m   1707\u001b[0m \u001b[43m    \u001b[49m\u001b[43mmode\u001b[49m\u001b[43m,\u001b[49m\n\u001b[1;32m   1708\u001b[0m \u001b[43m    \u001b[49m\u001b[43mencoding\u001b[49m\u001b[38;5;241;43m=\u001b[39;49m\u001b[38;5;28;43mself\u001b[39;49m\u001b[38;5;241;43m.\u001b[39;49m\u001b[43moptions\u001b[49m\u001b[38;5;241;43m.\u001b[39;49m\u001b[43mget\u001b[49m\u001b[43m(\u001b[49m\u001b[38;5;124;43m\"\u001b[39;49m\u001b[38;5;124;43mencoding\u001b[39;49m\u001b[38;5;124;43m\"\u001b[39;49m\u001b[43m,\u001b[49m\u001b[43m \u001b[49m\u001b[38;5;28;43;01mNone\u001b[39;49;00m\u001b[43m)\u001b[49m\u001b[43m,\u001b[49m\n\u001b[1;32m   1709\u001b[0m \u001b[43m    \u001b[49m\u001b[43mcompression\u001b[49m\u001b[38;5;241;43m=\u001b[39;49m\u001b[38;5;28;43mself\u001b[39;49m\u001b[38;5;241;43m.\u001b[39;49m\u001b[43moptions\u001b[49m\u001b[38;5;241;43m.\u001b[39;49m\u001b[43mget\u001b[49m\u001b[43m(\u001b[49m\u001b[38;5;124;43m\"\u001b[39;49m\u001b[38;5;124;43mcompression\u001b[39;49m\u001b[38;5;124;43m\"\u001b[39;49m\u001b[43m,\u001b[49m\u001b[43m \u001b[49m\u001b[38;5;28;43;01mNone\u001b[39;49;00m\u001b[43m)\u001b[49m\u001b[43m,\u001b[49m\n\u001b[1;32m   1710\u001b[0m \u001b[43m    \u001b[49m\u001b[43mmemory_map\u001b[49m\u001b[38;5;241;43m=\u001b[39;49m\u001b[38;5;28;43mself\u001b[39;49m\u001b[38;5;241;43m.\u001b[39;49m\u001b[43moptions\u001b[49m\u001b[38;5;241;43m.\u001b[39;49m\u001b[43mget\u001b[49m\u001b[43m(\u001b[49m\u001b[38;5;124;43m\"\u001b[39;49m\u001b[38;5;124;43mmemory_map\u001b[39;49m\u001b[38;5;124;43m\"\u001b[39;49m\u001b[43m,\u001b[49m\u001b[43m \u001b[49m\u001b[38;5;28;43;01mFalse\u001b[39;49;00m\u001b[43m)\u001b[49m\u001b[43m,\u001b[49m\n\u001b[1;32m   1711\u001b[0m \u001b[43m    \u001b[49m\u001b[43mis_text\u001b[49m\u001b[38;5;241;43m=\u001b[39;49m\u001b[43mis_text\u001b[49m\u001b[43m,\u001b[49m\n\u001b[1;32m   1712\u001b[0m \u001b[43m    \u001b[49m\u001b[43merrors\u001b[49m\u001b[38;5;241;43m=\u001b[39;49m\u001b[38;5;28;43mself\u001b[39;49m\u001b[38;5;241;43m.\u001b[39;49m\u001b[43moptions\u001b[49m\u001b[38;5;241;43m.\u001b[39;49m\u001b[43mget\u001b[49m\u001b[43m(\u001b[49m\u001b[38;5;124;43m\"\u001b[39;49m\u001b[38;5;124;43mencoding_errors\u001b[39;49m\u001b[38;5;124;43m\"\u001b[39;49m\u001b[43m,\u001b[49m\u001b[43m \u001b[49m\u001b[38;5;124;43m\"\u001b[39;49m\u001b[38;5;124;43mstrict\u001b[39;49m\u001b[38;5;124;43m\"\u001b[39;49m\u001b[43m)\u001b[49m\u001b[43m,\u001b[49m\n\u001b[1;32m   1713\u001b[0m \u001b[43m    \u001b[49m\u001b[43mstorage_options\u001b[49m\u001b[38;5;241;43m=\u001b[39;49m\u001b[38;5;28;43mself\u001b[39;49m\u001b[38;5;241;43m.\u001b[39;49m\u001b[43moptions\u001b[49m\u001b[38;5;241;43m.\u001b[39;49m\u001b[43mget\u001b[49m\u001b[43m(\u001b[49m\u001b[38;5;124;43m\"\u001b[39;49m\u001b[38;5;124;43mstorage_options\u001b[39;49m\u001b[38;5;124;43m\"\u001b[39;49m\u001b[43m,\u001b[49m\u001b[43m \u001b[49m\u001b[38;5;28;43;01mNone\u001b[39;49;00m\u001b[43m)\u001b[49m\u001b[43m,\u001b[49m\n\u001b[1;32m   1714\u001b[0m \u001b[43m\u001b[49m\u001b[43m)\u001b[49m\n\u001b[1;32m   1715\u001b[0m \u001b[38;5;28;01massert\u001b[39;00m \u001b[38;5;28mself\u001b[39m\u001b[38;5;241m.\u001b[39mhandles \u001b[38;5;129;01mis\u001b[39;00m \u001b[38;5;129;01mnot\u001b[39;00m \u001b[38;5;28;01mNone\u001b[39;00m\n\u001b[1;32m   1716\u001b[0m f \u001b[38;5;241m=\u001b[39m \u001b[38;5;28mself\u001b[39m\u001b[38;5;241m.\u001b[39mhandles\u001b[38;5;241m.\u001b[39mhandle\n",
      "File \u001b[0;32m/Library/Frameworks/Python.framework/Versions/3.12/lib/python3.12/site-packages/pandas/io/common.py:718\u001b[0m, in \u001b[0;36mget_handle\u001b[0;34m(path_or_buf, mode, encoding, compression, memory_map, is_text, errors, storage_options)\u001b[0m\n\u001b[1;32m    715\u001b[0m     codecs\u001b[38;5;241m.\u001b[39mlookup_error(errors)\n\u001b[1;32m    717\u001b[0m \u001b[38;5;66;03m# open URLs\u001b[39;00m\n\u001b[0;32m--> 718\u001b[0m ioargs \u001b[38;5;241m=\u001b[39m \u001b[43m_get_filepath_or_buffer\u001b[49m\u001b[43m(\u001b[49m\n\u001b[1;32m    719\u001b[0m \u001b[43m    \u001b[49m\u001b[43mpath_or_buf\u001b[49m\u001b[43m,\u001b[49m\n\u001b[1;32m    720\u001b[0m \u001b[43m    \u001b[49m\u001b[43mencoding\u001b[49m\u001b[38;5;241;43m=\u001b[39;49m\u001b[43mencoding\u001b[49m\u001b[43m,\u001b[49m\n\u001b[1;32m    721\u001b[0m \u001b[43m    \u001b[49m\u001b[43mcompression\u001b[49m\u001b[38;5;241;43m=\u001b[39;49m\u001b[43mcompression\u001b[49m\u001b[43m,\u001b[49m\n\u001b[1;32m    722\u001b[0m \u001b[43m    \u001b[49m\u001b[43mmode\u001b[49m\u001b[38;5;241;43m=\u001b[39;49m\u001b[43mmode\u001b[49m\u001b[43m,\u001b[49m\n\u001b[1;32m    723\u001b[0m \u001b[43m    \u001b[49m\u001b[43mstorage_options\u001b[49m\u001b[38;5;241;43m=\u001b[39;49m\u001b[43mstorage_options\u001b[49m\u001b[43m,\u001b[49m\n\u001b[1;32m    724\u001b[0m \u001b[43m\u001b[49m\u001b[43m)\u001b[49m\n\u001b[1;32m    726\u001b[0m handle \u001b[38;5;241m=\u001b[39m ioargs\u001b[38;5;241m.\u001b[39mfilepath_or_buffer\n\u001b[1;32m    727\u001b[0m handles: \u001b[38;5;28mlist\u001b[39m[BaseBuffer]\n",
      "File \u001b[0;32m/Library/Frameworks/Python.framework/Versions/3.12/lib/python3.12/site-packages/pandas/io/common.py:372\u001b[0m, in \u001b[0;36m_get_filepath_or_buffer\u001b[0;34m(filepath_or_buffer, encoding, compression, mode, storage_options)\u001b[0m\n\u001b[1;32m    370\u001b[0m \u001b[38;5;66;03m# assuming storage_options is to be interpreted as headers\u001b[39;00m\n\u001b[1;32m    371\u001b[0m req_info \u001b[38;5;241m=\u001b[39m urllib\u001b[38;5;241m.\u001b[39mrequest\u001b[38;5;241m.\u001b[39mRequest(filepath_or_buffer, headers\u001b[38;5;241m=\u001b[39mstorage_options)\n\u001b[0;32m--> 372\u001b[0m \u001b[38;5;28;01mwith\u001b[39;00m \u001b[43murlopen\u001b[49m\u001b[43m(\u001b[49m\u001b[43mreq_info\u001b[49m\u001b[43m)\u001b[49m \u001b[38;5;28;01mas\u001b[39;00m req:\n\u001b[1;32m    373\u001b[0m     content_encoding \u001b[38;5;241m=\u001b[39m req\u001b[38;5;241m.\u001b[39mheaders\u001b[38;5;241m.\u001b[39mget(\u001b[38;5;124m\"\u001b[39m\u001b[38;5;124mContent-Encoding\u001b[39m\u001b[38;5;124m\"\u001b[39m, \u001b[38;5;28;01mNone\u001b[39;00m)\n\u001b[1;32m    374\u001b[0m     \u001b[38;5;28;01mif\u001b[39;00m content_encoding \u001b[38;5;241m==\u001b[39m \u001b[38;5;124m\"\u001b[39m\u001b[38;5;124mgzip\u001b[39m\u001b[38;5;124m\"\u001b[39m:\n\u001b[1;32m    375\u001b[0m         \u001b[38;5;66;03m# Override compression based on Content-Encoding header\u001b[39;00m\n",
      "File \u001b[0;32m/Library/Frameworks/Python.framework/Versions/3.12/lib/python3.12/site-packages/pandas/io/common.py:274\u001b[0m, in \u001b[0;36murlopen\u001b[0;34m(*args, **kwargs)\u001b[0m\n\u001b[1;32m    268\u001b[0m \u001b[38;5;250m\u001b[39m\u001b[38;5;124;03m\"\"\"\u001b[39;00m\n\u001b[1;32m    269\u001b[0m \u001b[38;5;124;03mLazy-import wrapper for stdlib urlopen, as that imports a big chunk of\u001b[39;00m\n\u001b[1;32m    270\u001b[0m \u001b[38;5;124;03mthe stdlib.\u001b[39;00m\n\u001b[1;32m    271\u001b[0m \u001b[38;5;124;03m\"\"\"\u001b[39;00m\n\u001b[1;32m    272\u001b[0m \u001b[38;5;28;01mimport\u001b[39;00m \u001b[38;5;21;01murllib\u001b[39;00m\u001b[38;5;21;01m.\u001b[39;00m\u001b[38;5;21;01mrequest\u001b[39;00m\n\u001b[0;32m--> 274\u001b[0m \u001b[38;5;28;01mreturn\u001b[39;00m \u001b[43murllib\u001b[49m\u001b[38;5;241;43m.\u001b[39;49m\u001b[43mrequest\u001b[49m\u001b[38;5;241;43m.\u001b[39;49m\u001b[43murlopen\u001b[49m\u001b[43m(\u001b[49m\u001b[38;5;241;43m*\u001b[39;49m\u001b[43margs\u001b[49m\u001b[43m,\u001b[49m\u001b[43m \u001b[49m\u001b[38;5;241;43m*\u001b[39;49m\u001b[38;5;241;43m*\u001b[39;49m\u001b[43mkwargs\u001b[49m\u001b[43m)\u001b[49m\n",
      "File \u001b[0;32m/Library/Frameworks/Python.framework/Versions/3.12/lib/python3.12/urllib/request.py:215\u001b[0m, in \u001b[0;36murlopen\u001b[0;34m(url, data, timeout, cafile, capath, cadefault, context)\u001b[0m\n\u001b[1;32m    213\u001b[0m \u001b[38;5;28;01melse\u001b[39;00m:\n\u001b[1;32m    214\u001b[0m     opener \u001b[38;5;241m=\u001b[39m _opener\n\u001b[0;32m--> 215\u001b[0m \u001b[38;5;28;01mreturn\u001b[39;00m \u001b[43mopener\u001b[49m\u001b[38;5;241;43m.\u001b[39;49m\u001b[43mopen\u001b[49m\u001b[43m(\u001b[49m\u001b[43murl\u001b[49m\u001b[43m,\u001b[49m\u001b[43m \u001b[49m\u001b[43mdata\u001b[49m\u001b[43m,\u001b[49m\u001b[43m \u001b[49m\u001b[43mtimeout\u001b[49m\u001b[43m)\u001b[49m\n",
      "File \u001b[0;32m/Library/Frameworks/Python.framework/Versions/3.12/lib/python3.12/urllib/request.py:515\u001b[0m, in \u001b[0;36mOpenerDirector.open\u001b[0;34m(self, fullurl, data, timeout)\u001b[0m\n\u001b[1;32m    512\u001b[0m     req \u001b[38;5;241m=\u001b[39m meth(req)\n\u001b[1;32m    514\u001b[0m sys\u001b[38;5;241m.\u001b[39maudit(\u001b[38;5;124m'\u001b[39m\u001b[38;5;124murllib.Request\u001b[39m\u001b[38;5;124m'\u001b[39m, req\u001b[38;5;241m.\u001b[39mfull_url, req\u001b[38;5;241m.\u001b[39mdata, req\u001b[38;5;241m.\u001b[39mheaders, req\u001b[38;5;241m.\u001b[39mget_method())\n\u001b[0;32m--> 515\u001b[0m response \u001b[38;5;241m=\u001b[39m \u001b[38;5;28;43mself\u001b[39;49m\u001b[38;5;241;43m.\u001b[39;49m\u001b[43m_open\u001b[49m\u001b[43m(\u001b[49m\u001b[43mreq\u001b[49m\u001b[43m,\u001b[49m\u001b[43m \u001b[49m\u001b[43mdata\u001b[49m\u001b[43m)\u001b[49m\n\u001b[1;32m    517\u001b[0m \u001b[38;5;66;03m# post-process response\u001b[39;00m\n\u001b[1;32m    518\u001b[0m meth_name \u001b[38;5;241m=\u001b[39m protocol\u001b[38;5;241m+\u001b[39m\u001b[38;5;124m\"\u001b[39m\u001b[38;5;124m_response\u001b[39m\u001b[38;5;124m\"\u001b[39m\n",
      "File \u001b[0;32m/Library/Frameworks/Python.framework/Versions/3.12/lib/python3.12/urllib/request.py:532\u001b[0m, in \u001b[0;36mOpenerDirector._open\u001b[0;34m(self, req, data)\u001b[0m\n\u001b[1;32m    529\u001b[0m     \u001b[38;5;28;01mreturn\u001b[39;00m result\n\u001b[1;32m    531\u001b[0m protocol \u001b[38;5;241m=\u001b[39m req\u001b[38;5;241m.\u001b[39mtype\n\u001b[0;32m--> 532\u001b[0m result \u001b[38;5;241m=\u001b[39m \u001b[38;5;28;43mself\u001b[39;49m\u001b[38;5;241;43m.\u001b[39;49m\u001b[43m_call_chain\u001b[49m\u001b[43m(\u001b[49m\u001b[38;5;28;43mself\u001b[39;49m\u001b[38;5;241;43m.\u001b[39;49m\u001b[43mhandle_open\u001b[49m\u001b[43m,\u001b[49m\u001b[43m \u001b[49m\u001b[43mprotocol\u001b[49m\u001b[43m,\u001b[49m\u001b[43m \u001b[49m\u001b[43mprotocol\u001b[49m\u001b[43m \u001b[49m\u001b[38;5;241;43m+\u001b[39;49m\n\u001b[1;32m    533\u001b[0m \u001b[43m                          \u001b[49m\u001b[38;5;124;43m'\u001b[39;49m\u001b[38;5;124;43m_open\u001b[39;49m\u001b[38;5;124;43m'\u001b[39;49m\u001b[43m,\u001b[49m\u001b[43m \u001b[49m\u001b[43mreq\u001b[49m\u001b[43m)\u001b[49m\n\u001b[1;32m    534\u001b[0m \u001b[38;5;28;01mif\u001b[39;00m result:\n\u001b[1;32m    535\u001b[0m     \u001b[38;5;28;01mreturn\u001b[39;00m result\n",
      "File \u001b[0;32m/Library/Frameworks/Python.framework/Versions/3.12/lib/python3.12/urllib/request.py:492\u001b[0m, in \u001b[0;36mOpenerDirector._call_chain\u001b[0;34m(self, chain, kind, meth_name, *args)\u001b[0m\n\u001b[1;32m    490\u001b[0m \u001b[38;5;28;01mfor\u001b[39;00m handler \u001b[38;5;129;01min\u001b[39;00m handlers:\n\u001b[1;32m    491\u001b[0m     func \u001b[38;5;241m=\u001b[39m \u001b[38;5;28mgetattr\u001b[39m(handler, meth_name)\n\u001b[0;32m--> 492\u001b[0m     result \u001b[38;5;241m=\u001b[39m \u001b[43mfunc\u001b[49m\u001b[43m(\u001b[49m\u001b[38;5;241;43m*\u001b[39;49m\u001b[43margs\u001b[49m\u001b[43m)\u001b[49m\n\u001b[1;32m    493\u001b[0m     \u001b[38;5;28;01mif\u001b[39;00m result \u001b[38;5;129;01mis\u001b[39;00m \u001b[38;5;129;01mnot\u001b[39;00m \u001b[38;5;28;01mNone\u001b[39;00m:\n\u001b[1;32m    494\u001b[0m         \u001b[38;5;28;01mreturn\u001b[39;00m result\n",
      "File \u001b[0;32m/Library/Frameworks/Python.framework/Versions/3.12/lib/python3.12/urllib/request.py:1392\u001b[0m, in \u001b[0;36mHTTPSHandler.https_open\u001b[0;34m(self, req)\u001b[0m\n\u001b[1;32m   1391\u001b[0m \u001b[38;5;28;01mdef\u001b[39;00m \u001b[38;5;21mhttps_open\u001b[39m(\u001b[38;5;28mself\u001b[39m, req):\n\u001b[0;32m-> 1392\u001b[0m     \u001b[38;5;28;01mreturn\u001b[39;00m \u001b[38;5;28;43mself\u001b[39;49m\u001b[38;5;241;43m.\u001b[39;49m\u001b[43mdo_open\u001b[49m\u001b[43m(\u001b[49m\u001b[43mhttp\u001b[49m\u001b[38;5;241;43m.\u001b[39;49m\u001b[43mclient\u001b[49m\u001b[38;5;241;43m.\u001b[39;49m\u001b[43mHTTPSConnection\u001b[49m\u001b[43m,\u001b[49m\u001b[43m \u001b[49m\u001b[43mreq\u001b[49m\u001b[43m,\u001b[49m\n\u001b[1;32m   1393\u001b[0m \u001b[43m                        \u001b[49m\u001b[43mcontext\u001b[49m\u001b[38;5;241;43m=\u001b[39;49m\u001b[38;5;28;43mself\u001b[39;49m\u001b[38;5;241;43m.\u001b[39;49m\u001b[43m_context\u001b[49m\u001b[43m)\u001b[49m\n",
      "File \u001b[0;32m/Library/Frameworks/Python.framework/Versions/3.12/lib/python3.12/urllib/request.py:1347\u001b[0m, in \u001b[0;36mAbstractHTTPHandler.do_open\u001b[0;34m(self, http_class, req, **http_conn_args)\u001b[0m\n\u001b[1;32m   1344\u001b[0m         h\u001b[38;5;241m.\u001b[39mrequest(req\u001b[38;5;241m.\u001b[39mget_method(), req\u001b[38;5;241m.\u001b[39mselector, req\u001b[38;5;241m.\u001b[39mdata, headers,\n\u001b[1;32m   1345\u001b[0m                   encode_chunked\u001b[38;5;241m=\u001b[39mreq\u001b[38;5;241m.\u001b[39mhas_header(\u001b[38;5;124m'\u001b[39m\u001b[38;5;124mTransfer-encoding\u001b[39m\u001b[38;5;124m'\u001b[39m))\n\u001b[1;32m   1346\u001b[0m     \u001b[38;5;28;01mexcept\u001b[39;00m \u001b[38;5;167;01mOSError\u001b[39;00m \u001b[38;5;28;01mas\u001b[39;00m err: \u001b[38;5;66;03m# timeout error\u001b[39;00m\n\u001b[0;32m-> 1347\u001b[0m         \u001b[38;5;28;01mraise\u001b[39;00m URLError(err)\n\u001b[1;32m   1348\u001b[0m     r \u001b[38;5;241m=\u001b[39m h\u001b[38;5;241m.\u001b[39mgetresponse()\n\u001b[1;32m   1349\u001b[0m \u001b[38;5;28;01mexcept\u001b[39;00m:\n",
      "\u001b[0;31mURLError\u001b[0m: <urlopen error [SSL: CERTIFICATE_VERIFY_FAILED] certificate verify failed: unable to get local issuer certificate (_ssl.c:1000)>"
     ]
    }
   ],
   "source": [
    "# Lese inn datasettene ved funksjon fra pandas (df=data frame - vanlig navn å gi et datasett)\n",
    "df0 = pd.read_csv(\"https://www.math.ntnu.no/emner/IST100x/ISTx1003/h2023/E0.csv\", sep = ',') # Premier League\n",
    "df1 = pd.read_csv(\"https://www.math.ntnu.no/emner/IST100x/ISTx1003/h2023/E1.csv\", sep = ',') # Championship\n",
    "df2 = pd.read_csv(\"https://www.math.ntnu.no/emner/IST100x/ISTx1003/h2023/E2.csv\", sep = ',') # League 1\n",
    "df3 = pd.read_csv(\"https://www.math.ntnu.no/emner/IST100x/ISTx1003/h2023/E3.csv\", sep = ',') # League 2\n",
    "\n",
    "# Sett sammen datasettene til 1 data-frame\n",
    "df_in=pd.concat([df0,\n",
    "                 df1,\n",
    "                 df2,\n",
    "                 df3], ignore_index = True)\n",
    "df=pd.concat([pd.Series(np.where(df_in['FTR'] == 'H', 1, 0)),\n",
    "              df_in['HST']-df_in['AST'], \n",
    "              df_in['HC']-df_in['AC'],\n",
    "              df_in['HF']-df_in['AF']], axis = 1)\n",
    "\n",
    "# Henter ut de dataene vi er interessert i\n",
    "df.columns=['y', 'skudd_paa_maal_diff', 'corner_diff', 'forseelse_diff']\n",
    "print(df.describe())"
   ]
  },
  {
   "cell_type": "markdown",
   "id": "71d26a96-c60c-48b3-bcf5-0e8d8f190f0e",
   "metadata": {},
   "source": [
    "\n",
    "Videre vil vi dele datasettet vårt inn i tre datasett: et treningssett, et valideringssett og et testsett. Først deler vi data inn i 80\\% trening/validering og 20\\% test, og deretter deler vi trening/valideringssettet inn i 75\\% trening og 25\\% validering.\n"
   ]
  },
  {
   "cell_type": "code",
   "execution_count": 6,
   "id": "0deb5ede-2b49-42dc-a446-d09f7ded3e55",
   "metadata": {},
   "outputs": [
    {
     "name": "stdout",
     "output_type": "stream",
     "text": [
      "treningssett: \n",
      " (1221, 4)\n",
      "                 y  skudd_paa_maal_diff  corner_diff  forseelse_diff\n",
      "count  1221.000000          1221.000000  1221.000000     1221.000000\n",
      "mean      0.432432             0.933661     1.020475       -0.701065\n",
      "std       0.495617             3.286039     4.331025        4.601308\n",
      "min       0.000000           -11.000000   -17.000000      -17.000000\n",
      "25%       0.000000            -1.000000    -2.000000       -4.000000\n",
      "50%       0.000000             1.000000     1.000000       -1.000000\n",
      "75%       1.000000             3.000000     4.000000        2.000000\n",
      "max       1.000000            12.000000    14.000000       17.000000\n",
      "y\n",
      "0    693\n",
      "1    528\n",
      "Name: count, dtype: int64\n",
      "\n",
      "valideringssett: \n",
      " (407, 4)\n",
      "                y  skudd_paa_maal_diff  corner_diff  forseelse_diff\n",
      "count  407.000000           407.000000   407.000000      407.000000\n",
      "mean     0.432432             0.734644     1.002457       -0.324324\n",
      "std      0.496023             3.345956     4.333112        4.589877\n",
      "min      0.000000           -10.000000   -12.000000      -16.000000\n",
      "25%      0.000000            -2.000000    -2.000000       -3.000000\n",
      "50%      0.000000             1.000000     1.000000        0.000000\n",
      "75%      1.000000             3.000000     4.000000        3.000000\n",
      "max      1.000000            11.000000    16.000000       17.000000\n",
      "y\n",
      "0    231\n",
      "1    176\n",
      "Name: count, dtype: int64\n",
      "\n",
      "testsett: \n",
      " (408, 4)\n",
      "                y  skudd_paa_maal_diff  corner_diff  forseelse_diff\n",
      "count  408.000000           408.000000   408.000000      408.000000\n",
      "mean     0.433824             0.450980     0.953431       -0.321078\n",
      "std      0.496210             3.396421     4.421890        4.513409\n",
      "min      0.000000            -9.000000   -12.000000      -13.000000\n",
      "25%      0.000000            -2.000000    -2.000000       -4.000000\n",
      "50%      0.000000             1.000000     1.000000        0.000000\n",
      "75%      1.000000             3.000000     4.000000        3.000000\n",
      "max      1.000000            12.000000    15.000000       13.000000\n",
      "y\n",
      "0    231\n",
      "1    177\n",
      "Name: count, dtype: int64\n"
     ]
    }
   ],
   "source": [
    "df_trenval, df_test = train_test_split(df, test_size = 0.2, random_state = 1, stratify = df['y'])\n",
    "df_tren, df_val = train_test_split(df_trenval, test_size = 0.25, random_state = 1, stratify = df_trenval['y'])\n",
    "print(\"treningssett: \\n\", df_tren.shape)\n",
    "print(df_tren.describe())\n",
    "print(df_tren[\"y\"].value_counts())\n",
    "print(\"\\nvalideringssett: \\n\", df_val.shape)\n",
    "print(df_val.describe())\n",
    "print(df_val[\"y\"].value_counts())\n",
    "print(\"\\ntestsett: \\n\", df_test.shape)\n",
    "print(df_test.describe())\n",
    "print(df_test[\"y\"].value_counts())"
   ]
  },
  {
   "cell_type": "markdown",
   "id": "d25cea8c-8718-4603-871c-7527e30c3da1",
   "metadata": {},
   "source": [
    "I denne oppgaven skal vi etterhvert tilpasse logistisk regresjon og $k$-nærmeste nabo-klassifikasjon.\n",
    "\n",
    "**2a.1)** Hvorfor ønsker vi å dele dataene inn i trening-, validering- og test-sett?\n",
    "\n",
    "**2a.2)** Hvor stor andel av dataene er nå i hver av de tre settene? Ser de tre datasettene ut til å ha lik fordeling for de tre forklaringsvariablene og responsen?\n",
    "\n",
    "**2a.3)** La oss si at vi hadde valgt League 1 og 2 som treningssett, Championship som valideringssett, og Premier League som testsett. Hvorfor hadde dette vært dumt?\n",
    "\n",
    "For å utforske dataene lager vi kryssplott av de tre forklaringsvariablene for treningsdataene og fargelegger punktene fra kampene etter hvorvidt det var hjemmeseier eller ikke. På diagonalen ser vi empiriske tetthetsplott (glattet variant av et histogram). Under har vi også regnet ut empirisk korrelasjonskoeffisient for alle par av variabler."
   ]
  },
  {
   "cell_type": "code",
   "execution_count": null,
   "id": "d6b7043b-ca0b-4581-a8ca-8f6f2cd87bf5",
   "metadata": {},
   "outputs": [],
   "source": [
    "sns.pairplot(df_tren, vars = ['skudd_paa_maal_diff','corner_diff','forseelse_diff'],\n",
    "             hue = 'y', \n",
    "             diag_kind = 'kde',\n",
    "             plot_kws = dict(alpha = 0.4))\n",
    "plt.show()"
   ]
  },
  {
   "cell_type": "code",
   "execution_count": null,
   "id": "83192f11-67ea-4b56-be1b-4a55f7b15865",
   "metadata": {},
   "outputs": [],
   "source": [
    "corr = df_tren.corr()\n",
    "display(corr.style.background_gradient(cmap = 'coolwarm', axis = None, vmin = -1, vmax = 1))\n",
    "plt.show()"
   ]
  },
  {
   "cell_type": "markdown",
   "id": "85be8de0-1830-4a11-a02f-e9efd13b301c",
   "metadata": {
    "tags": []
   },
   "source": [
    "**2a.4)** Kommenter kort på hva du ser i plottene og utskriften (maks 5 setninger).\n",
    "\n",
    "**2a.5)** Hvilke(n) av de tre variablene tror du vil være god(e) til å bruke til å predikere om det blir hjemmeseier? Begrunn svaret kort (maks 3 setninger)."
   ]
  },
  {
   "cell_type": "markdown",
   "id": "4ed08585-d450-4680-a677-792db93639c8",
   "metadata": {},
   "source": [
    "### Oppgave 2b) Logistisk regresjon<a name=\"oppgave2b\"></a>\n",
    "\n",
    "*Oppgave 2b) inneholder 5 spørsmål du skal svare på.*\n",
    "\n",
    "Vi tilpasser en logistisk regresjon til treningssettet, og regner ut feilrate for valideringssettet gitt at vi klassifiserer som suksess (hjemmeseier) når sannsynligheten for hjemmeseier er anslått til minst 0.5.\n",
    "\n",
    "Dette gjør vi med de samme stegene som det vi gjorde for multippel lineær regresjon:\n",
    "\n",
    "1) Bli kjent med dataene ved å se på oppsummeringsmål og ulike typer plott\n",
    "2) Spesifisere en matematisk modell (modellformel)\n",
    "3) Initialisere og tilpasse modellen\n",
    "4) Presentere resultater fra den tilpassede modellen\n",
    "5) Evaluere om modellen passer til dataene\n",
    "\n",
    "Vi er ferdige med Steg 1, og gjør så Steg 2-4 under."
   ]
  },
  {
   "cell_type": "code",
   "execution_count": null,
   "id": "27c64947-428b-4c56-beec-b69632645e85",
   "metadata": {},
   "outputs": [],
   "source": [
    "# Steg 2: Modellformel\n",
    "formel = \"y ~ skudd_paa_maal_diff + corner_diff + forseelse_diff\"\n",
    "\n",
    "# Steg 3: Initialiser modellen \n",
    "modell = smf.logit(formel, data = df_tren)\n",
    "\n",
    "# Tilpass modellen\n",
    "resultat = modell.fit()\n",
    "\n",
    "# Steg 4: Presenter koeffisient-verdier (betaer) fra den tilpassede modellen \n",
    "print(\"\\nKoeffisentverdier:\\n\\n\", resultat.params)"
   ]
  },
  {
   "cell_type": "markdown",
   "id": "d8a897d3-e04d-4876-9416-d5628501e186",
   "metadata": {},
   "source": [
    "**2b.1)** I en kamp der `skudd_paa_maal_diff` er $2$, `corner_diff` er $-2$ og `forseelse_diff` er $6$, hva er ifølge modellen sannsynligheten for at hjemmelaget vinner? Vis utregninger og/eller kode, og oppgi svaret med tre desimaler.\n",
    "\n",
    "**2b.2)** Hvordan kan du tolke verdien av $e^{\\beta_{\\texttt{skudd_paa_maal_diff}}}$?"
   ]
  },
  {
   "cell_type": "code",
   "execution_count": null,
   "id": "f0e6e914-1cab-4c50-b417-81e63fb54993",
   "metadata": {},
   "outputs": [],
   "source": [
    "# her kan du skrive kode for å regne ut exp(beta)\n",
    "np.exp(0)"
   ]
  },
  {
   "cell_type": "markdown",
   "id": "fe43483d-1fc3-4a7f-b84f-c45aaea7448c",
   "metadata": {},
   "source": [
    "**2b.3)** Hva angir feilraten til modellen? Hvilket datasett er feilraten regnet ut fra? Er du fornøyd med verdien til feilraten?"
   ]
  },
  {
   "cell_type": "code",
   "execution_count": null,
   "id": "e0b16fb0-fe11-42bc-bd2c-2c029f4bdc0f",
   "metadata": {},
   "outputs": [],
   "source": [
    "# Spesifiser verdi for cutoff\n",
    "cutoff = 0.5\n",
    "\n",
    "# Prediker verdi for valideringssettet\n",
    "val_pred = resultat.predict(exog = df_val)\n",
    "\n",
    "# Klassifiser som seier for hjemmelaget hvis sannsynligheten for at hjemmelaget vant er over 0.5\n",
    "y_valpred = np.where(val_pred > cutoff, 1, 0)\n",
    "y_valobs = df_val['y']\n",
    "\n",
    "# Finn feilrate\n",
    "print(\"Feilrate:\", 1 - accuracy_score(y_true = y_valobs, y_pred = y_valpred))"
   ]
  },
  {
   "cell_type": "markdown",
   "id": "6d648edb-4b42-4403-ad24-3e117e5a3777",
   "metadata": {},
   "source": [
    "Tilpass nå den logistiske regresjonen uten `forseelse_diff` som forklaringsvariabel - ved å kopiere koden over (men ikke den gamle formelen).\n",
    "\n",
    "**2b.4)** Diskuter kort hvordan koeffisientene ($\\beta$-ene) og feilraten endrer seg når `forseelse_diff` tas ut av modellen (maks 3 setninger).\n",
    "\n",
    "**2b.5)** Med den nye modellen: I en kamp der `skudd_paa_maal_diff` $= 2$, `corner_diff` $= -2$ og `forseelse_diff` $= 6$, hva er sannsynligheten for at hjemmelaget vinner ifølge den nye modellen? Oppgi svaret med tre desimaler.\n",
    "\n",
    "**2b.6)** Hvis du skal finne en så god som mulig klassifikasjonsmodell med logistisk regresjon, vil du velge modellen med eller uten `forseelse_diff` som forklaringsvariabel? Begrunn kort svaret (maks 3 setninger)."
   ]
  },
  {
   "cell_type": "code",
   "execution_count": null,
   "id": "df7be372-a2bb-4692-a7c3-83a18c00d9e8",
   "metadata": {},
   "outputs": [],
   "source": [
    "# her kan du lime inn kode for å svare på 2b.4) til 2b.6)"
   ]
  },
  {
   "cell_type": "markdown",
   "id": "b7f07e89-3d0f-43e4-a5e2-c2b540a35cdd",
   "metadata": {},
   "source": [
    "### Oppgave 2c) $k$-nærmeste-nabo-klassifikasjon<a name=\"oppgave2c\"></a>\n",
    "\n",
    "*Oppgave 2c) inneholder 2 spørsmål du skal svare på.*\n",
    "\n",
    "Vi skal nå kun se på forklaringsvariablene `skudd_paa_maal_diff` og `corner_diff`, og tilpasse $k$-nærmeste-nabo-metoden der vi bruker euklidsk avstand som avstandsmål. Vi bruker valideringssettet til å velge $k$.\n",
    "\n",
    "Koden under tilpasser $k$-nærmeste nabo-klassifikasjon for ulike verdier for $k$, deretter regnes feilrate ut på valideringssettet og plottes."
   ]
  },
  {
   "cell_type": "code",
   "execution_count": null,
   "id": "ee6d8ef6-dcfa-42c9-b6ba-e7eb3dcc1e4e",
   "metadata": {},
   "outputs": [],
   "source": [
    "knaboer = np.arange(1, 251, step = 2)\n",
    "val_feilrate = np.empty(len(knaboer))\n",
    "\n",
    "X_tren = df_tren[['skudd_paa_maal_diff', 'corner_diff']] # bruker bare disse to forklaringsvariablene\n",
    "X_val = df_val[['skudd_paa_maal_diff', 'corner_diff']] \n",
    "\n",
    "for i,k in enumerate(knaboer):\n",
    "    \n",
    "    # Initialiser kNN med  k neighbors\n",
    "    knn = KNeighborsClassifier(n_neighbors = k, p = 2) # p = 2 gir euklidsk avstand\n",
    "\n",
    "    # Tilpass modellen med treningssettet\n",
    "    knn.fit(X_tren, df_tren['y'])\n",
    "    \n",
    "    # Beregn feilrate på valideringssett\n",
    "    # score er accuracy = \"andel korrekt\"\n",
    "    val_feilrate[i] = 1 - knn.score(X_val, df_val['y'])\n",
    "    \n",
    "# Lage plott\n",
    "plt.title('k-NN for ulike verdier av antall naboer k')\n",
    "plt.plot(knaboer, val_feilrate, label = 'Feilrate på valideringssettet')\n",
    "plt.legend()\n",
    "plt.xlabel('Antall naboer k')\n",
    "plt.ylabel('Feilrate')\n",
    "plt.show()\n",
    "\n",
    "valres=np.vstack((knaboer, val_feilrate))\n",
    "print(\"Valideringsfeilrate:\")\n",
    "print(valres.T)"
   ]
  },
  {
   "cell_type": "markdown",
   "id": "f8af08f2-0c99-4872-9402-ea2fc1fdb597",
   "metadata": {},
   "source": [
    "**2c.1)** Påstand: kNN kan bare brukes når vi har maksimalt to forklaringsvariabler. Fleip eller fakta?\n",
    "\n",
    "**2c.2)** Hvilken verdi av $k$ vil du velge? Hvorfor?"
   ]
  },
  {
   "cell_type": "markdown",
   "id": "beca284e-a018-4838-a8f6-45d5550d6fc1",
   "metadata": {},
   "source": [
    "### Oppgave 2d) Evaluere beste modeller<a name=\"oppgave2d\"></a>\n",
    "\n",
    "*Oppgave 2d) inneholder 2 spørsmål du skal svare på.*\n",
    "\n",
    "Nå tar vi frem testsettet og sammenligner den beste modellen for logistisk regresjon med den beste for $k$-nærmeste-nabo-klassifikasjon.\n",
    "\n",
    "**Gjør nødvendige endringer i koden under.**\n",
    "\n",
    "**2d.1)** Gjør logistisk regresjon eller $k$-nærmeste-nabo-klassifikasjon det best på fotballkampdataene?\n",
    "\n",
    "**2d.2)** Drøft klassegrensene (plottet under) for de to beste modellene (én logistisk regresjon og én kNN). Hva forteller klassegrensene deg om problemet? Skriv maksimalt 3 setninger."
   ]
  },
  {
   "cell_type": "code",
   "execution_count": null,
   "id": "413f677c-1e61-49e6-a030-35810b07de1f",
   "metadata": {},
   "outputs": [],
   "source": [
    "# beste resultat for logistisk regresjon\n",
    "bestelogist = 0 # hva er navnet på resultatobjektet fra den logistiske regresjon du valgte? var det den med eller uten forseelse_diff?\n",
    "test_pred = bestelogist.predict(exog = df_test)\n",
    "y_testpred = np.where(test_pred > cutoff, 1, 0)\n",
    "y_testobs = df_test['y']\n",
    "print(\"Feilrate logistisk regresjon:\", 1 - accuracy_score(y_true = y_testobs, y_pred = y_testpred))\n",
    "\n",
    "# beste resultat for kNN\n",
    "bestek = 0 # hva er din beste k?\n",
    "knn = KNeighborsClassifier(n_neighbors = bestek, p = 2)\n",
    "knn.fit(X_tren, df_tren['y'])\n",
    "X_test=df_test[['skudd_paa_maal_diff', 'corner_diff']]\n",
    "print(\"Feilrate kNN:\", 1 - knn.score(X_test, df_test['y']))"
   ]
  },
  {
   "cell_type": "code",
   "execution_count": null,
   "id": "81c7e6dd-7b29-4aba-ad18-c6f259e8028d",
   "metadata": {},
   "outputs": [],
   "source": [
    "# Plotting av klassegrensene for de beste modellene!\n",
    "\n",
    "# Set the data to be plotted\n",
    "n = 100  # Step size\n",
    "\n",
    "# Function to add jitter to data\n",
    "def jitter(data, factor=0.2):\n",
    "    # Add random noise to the data\n",
    "    return data + np.random.uniform(-factor, factor, data.shape)\n",
    "\n",
    "# Create a grid for plotting\n",
    "x_min, x_max = X_tren['skudd_paa_maal_diff'].min() - 0.5, X_tren['skudd_paa_maal_diff'].max() + 0.5\n",
    "y_min, y_max = X_tren['corner_diff'].min() - 0.5, X_tren['corner_diff'].max() + 0.5\n",
    "xx, yy = np.meshgrid(np.linspace(x_min, x_max, n),\n",
    "                     np.linspace(y_min, y_max, n))\n",
    "\n",
    "# Create a temporary DataFrame with feature names\n",
    "temp_df = pd.DataFrame(np.c_[xx.ravel(), yy.ravel()], columns=['skudd_paa_maal_diff', 'corner_diff'])\n",
    "\n",
    "# Predict using the KNeighborsClassifier with temporary feature names\n",
    "Z_knn = knn.predict(temp_df)\n",
    "\n",
    "# Reshape Z_knn to match the shape of xx\n",
    "Z_knn = Z_knn.reshape(xx.shape)\n",
    "\n",
    "# Plot the class boundary for Logistic Regression\n",
    "beta0 = resultat.params[0]\n",
    "beta1 = resultat.params['skudd_paa_maal_diff']\n",
    "beta2 = resultat.params['corner_diff']\n",
    "x_lr = np.linspace(-3, 5.25, n)\n",
    "y_lr = -beta0 / beta2 - x_lr * beta1 / beta2\n",
    "\n",
    "# Create a custom color map for the plot\n",
    "cmap = mcolors.ListedColormap(['#d8b365', '#5ab4ac'])\n",
    "\n",
    "# Create a figure and axes\n",
    "fig, ax = plt.subplots(figsize=(10, 8))\n",
    "\n",
    "# Plot the decision boundaries\n",
    "ax.contourf(xx, yy, Z_knn, cmap=cmap, alpha=0.6, levels=1, antialiased=True, linestyles='dashed')\n",
    "ax.plot(x_lr, y_lr, color = \"black\", label='Logistic Class Boundary', linewidth=2)\n",
    "\n",
    "# Scatter plot for the training data\n",
    "jittered_X_tren = jitter(X_tren[['skudd_paa_maal_diff', 'corner_diff']].values)\n",
    "scatter = ax.scatter(jittered_X_tren[:, 0], jittered_X_tren[:, 1], c=df_tren['y'], cmap=cmap, s=10)\n",
    "plt.colorbar(scatter, ax=ax, label='Class')\n",
    "\n",
    "# Add labels and a title\n",
    "ax.set_xlabel('Skudd på mål-differanse', fontsize=14)\n",
    "ax.set_ylabel('Corner-differense', fontsize=14)\n",
    "ax.set_title('Klassegrense for de beste modellene', fontsize=16)\n",
    "\n",
    "# Create custom legend elements for Klasse 0 and Klasse 1\n",
    "legend_elements = [\n",
    "    mlines.Line2D([], [], marker='s', color='w', markerfacecolor='#d8b365', markersize=10, label='Klasse 0 (KNN)', linestyle='None'),\n",
    "    mlines.Line2D([], [], marker='s', color='w', markerfacecolor='#5ab4ac', markersize=10, label='Klasse 1 (KNN)', linestyle='None'),\n",
    "    mlines.Line2D([], [], color='black', lw=2, label='Klassegrense (logistisk regresjon)')\n",
    "]\n",
    "\n",
    "# Add legend for class boundaries\n",
    "ax.legend(handles=legend_elements, title=\"Klasser\", loc='lower right')\n",
    "\n",
    "# Show the plot\n",
    "plt.show()"
   ]
  },
  {
   "cell_type": "markdown",
   "id": "718e9dca-793d-476c-9175-dd62318365ab",
   "metadata": {},
   "source": [
    "[Til toppen.](#top)"
   ]
  },
  {
   "cell_type": "code",
   "execution_count": null,
   "id": "cd6197d5-192b-4138-b6fb-9816d91760e3",
   "metadata": {},
   "outputs": [],
   "source": []
  }
 ],
 "metadata": {
  "kernelspec": {
   "display_name": "Python 3",
   "language": "python",
   "name": "python3"
  },
  "language_info": {
   "codemirror_mode": {
    "name": "ipython",
    "version": 3
   },
   "file_extension": ".py",
   "mimetype": "text/x-python",
   "name": "python",
   "nbconvert_exporter": "python",
   "pygments_lexer": "ipython3",
   "version": "3.12.1"
  }
 },
 "nbformat": 4,
 "nbformat_minor": 5
}
